{
 "cells": [
  {
   "cell_type": "code",
   "execution_count": 1,
   "metadata": {},
   "outputs": [],
   "source": [
    "import h5py\n",
    "import matplotlib.pyplot as plt\n",
    "import numpy as np\n",
    "import pandas as pd\n",
    "from tqdm import tqdm\n",
    "import cv2\n",
    "import re\n",
    "import ast\n",
    "\n",
    "import pickle\n",
    "\n",
    "from concurrent.futures import ProcessPoolExecutor\n",
    "\n",
    "from scipy import integrate\n",
    "from scipy.spatial import Voronoi\n",
    "#import pandas as pd\n",
    "\n",
    "def find_centroids(image):\n",
    "    \"\"\"\n",
    "    Find the centroids of white dots in a binary image.\n",
    "    \n",
    "    Args:\n",
    "        image (numpy.ndarray): The binary image array (256x256) with 0s and 1s.\n",
    "\n",
    "    Returns:\n",
    "        List[Tuple[int, int]]: List of centroids (x, y) of the white dots.\n",
    "    \"\"\"\n",
    "    border_width = 10\n",
    "    larger_image_size = 256 + 2 * border_width\n",
    "    \n",
    "    # Create a larger image\n",
    "    larger_image = np.zeros((larger_image_size, larger_image_size), dtype=np.uint8)\n",
    "    larger_image[border_width:border_width+256, border_width:border_width+256] = image\n",
    "    \n",
    "    # Copy borders\n",
    "    larger_image[0:border_width, border_width:border_width+256] = image[-border_width:, :]\n",
    "    larger_image[border_width+256:border_width+256+border_width, border_width:border_width+256] = image[:border_width, :]\n",
    "    larger_image[border_width:border_width+256, 0:border_width] = image[:, -border_width:]\n",
    "    larger_image[border_width:border_width+256, border_width+256:border_width+256+border_width] = image[:, :border_width]\n",
    "    larger_image[0:border_width, 0:border_width] = image[-border_width:, -border_width:]\n",
    "    larger_image[0:border_width, border_width+256:border_width+256+border_width] = image[-border_width:, :border_width]\n",
    "    larger_image[border_width+256:border_width+256+border_width, 0:border_width] = image[:border_width, -border_width:]\n",
    "    larger_image[border_width+256:border_width+256+border_width, border_width+256:border_width+256+border_width] = image[:border_width, :border_width]\n",
    "\n",
    "    # Connected component analysis\n",
    "    num_labels, VoidSmall_labels, stats, centroids = cv2.connectedComponentsWithStats(larger_image, connectivity=4)\n",
    "\n",
    "    # Filter centroids within the original image bounds\n",
    "    valid_centroids = [\n",
    "        (x - border_width, y - border_width)\n",
    "        for i in range(1, num_labels)  # Skip the background label (0)\n",
    "        if border_width <= (x := centroids[i][0]) < border_width + 256 and\n",
    "           border_width <= (y := centroids[i][1]) < border_width + 256\n",
    "    ]\n",
    "\n",
    "    return valid_centroids\n",
    "\n",
    "def process_images(images):\n",
    "    \"\"\"\n",
    "    Process a list of images to find centroids of white dots in each image.\n",
    "    Uses a progress bar for feedback.\n",
    "\n",
    "    Args:\n",
    "        images (List[numpy.ndarray]): List of binary images (256x256) with 0s and 1s.\n",
    "\n",
    "    Returns:\n",
    "        List[List[Tuple[int, int]]]: List of centroid lists for each image.\n",
    "    \"\"\"\n",
    "    all_centroids = []\n",
    "\n",
    "    for image in tqdm(images, desc=\"Processing Images\", unit=\"image\"):\n",
    "        centroids = find_centroids(image)\n",
    "        all_centroids.append(centroids)\n",
    "\n",
    "    return all_centroids\n",
    "\n",
    "def calculate_volume_fraction(image):\n",
    "    \"\"\"\n",
    "    Calculate the ratio of white pixels (pixel value of 1) to the total number of pixels in the image.\n",
    "\n",
    "    Args:\n",
    "        image (numpy.ndarray): Binary image array (256x256) with values 0 (black) and 1 (white).\n",
    "\n",
    "    Returns:\n",
    "        float: Ratio of white pixels to total pixels.\n",
    "    \"\"\"\n",
    "    # Ensure the image has dtype uint8 (optional step)\n",
    "    #image = np.asarray(image, dtype=np.uint8)\n",
    "    \n",
    "    # Calculate total number of pixels\n",
    "    total_pixels = 256*256\n",
    "    \n",
    "    # Calculate number of white pixels\n",
    "    white_pixels = np.count_nonzero(image == 1)\n",
    "    \n",
    "    # Calculate ratio of white pixels to total pixels\n",
    "    vf = white_pixels / total_pixels\n",
    "    \n",
    "    return vf\n",
    "\n",
    "def clean_value(value):\n",
    "    # Remove trailing backslashes and quotes\n",
    "    value = value.rstrip('\\\\').rstrip('\"').rstrip(\"'\")\n",
    "    # Remove trailing dots if not part of a number\n",
    "    if not value.replace('.', '').isdigit():\n",
    "        value = value.rstrip('.')\n",
    "    value = value.rstrip('.')    \n",
    "    return value\n",
    "\n",
    "def parse_vector(vector_bytes):\n",
    "    # Decode bytes to string and remove outer quotes and b prefix\n",
    "    cleaned_str = vector_bytes.decode('utf-8').strip('b\"\\'')\n",
    "    \n",
    "    # Split into main content and Local State\n",
    "    parts = cleaned_str.split('Local State:', 1)\n",
    "    main_content = parts[0].strip()\n",
    "    local_state = parts[1].strip() if len(parts) > 1 else None\n",
    "    \n",
    "    result = {'Local State': clean_value(local_state)} if local_state else {}\n",
    "    \n",
    "    # Split main content into lines\n",
    "    lines = main_content.split('\\\\n')\n",
    "    \n",
    "    for line in lines:\n",
    "        if ':' in line:\n",
    "            key, value = line.split(':', 1)\n",
    "            key = key.strip()\n",
    "            value = clean_value(value.strip())\n",
    "            \n",
    "            # Try to convert value to appropriate type\n",
    "            try:\n",
    "                value = ast.literal_eval(value)\n",
    "            except (ValueError, SyntaxError):\n",
    "                # If conversion fails, keep as string\n",
    "                pass\n",
    "            \n",
    "            result[key] = value\n",
    "    \n",
    "    return result\n",
    "\n",
    "def parse_all_vectors(vectors):\n",
    "    return [parse_vector(vector) for vector in vectors]\n",
    "\n",
    "def calculate_2D_orthotropic_C_matrix(E_x, v_xy, E_y, v_yx, G_xy):\n",
    "    \n",
    "    denominator = 1 - v_xy * v_yx\n",
    "    C11 = E_x / denominator\n",
    "    C12 = v_yx * E_x / denominator\n",
    "    C21 = v_xy * E_y / denominator\n",
    "    C22 = E_y / denominator\n",
    "    C33 = G_xy\n",
    "\n",
    "    C = np.array([[C11, C12, 0],\n",
    "                  [C21, C22, 0],\n",
    "                  [0, 0, C33]])\n",
    "    \n",
    "    return C\n",
    "\n",
    "# K_from_E_nu = lambda E,nu: E/(3.*(1.-2.*nu)) # 3D\n",
    "K_from_E_nu = lambda E,nu: E/(2.*(1.-nu)) # 2D plane stress\n",
    "mu_from_E_nu = lambda E,nu: E/(2.*(1.+nu))\n",
    "E_from_K_mu = lambda K,mu: 9.*K*mu/(3.*K+mu)\n",
    "nu_from_K_mu = lambda K,mu: (3.*K-2.*mu)/(2.*(3.*K+mu))\n",
    "\n",
    "class Material:\n",
    "    def __init__(self, E, nu):\n",
    "        self.E = E\n",
    "        self.nu = nu\n",
    "        self.mu = mu_from_E_nu(E,nu)\n",
    "        self.K = K_from_E_nu(E,nu)\n",
    "\n",
    "def A_coefficients(K,mu):\n",
    "    s_1 = 3. * K / (3.*K + 4.*mu)\n",
    "    s_2 = 6. * (K + 2.*mu)/(5. * (3.*K + 4.*mu))\n",
    "    return s_1, s_2\n",
    "\n",
    "def Voigt(K,mu,f):\n",
    "    K_star = 0; mu_star = 0\n",
    "    for i in range(len(f)):\n",
    "        K_star  += f[i] * K[i]\n",
    "        mu_star += f[i] * mu[i]\n",
    "    return K_star, mu_star\n",
    "\n",
    "def Reuss(K,mu,f):\n",
    "    K_star = 0; mu_star = 0\n",
    "    for i in range(len(f)):\n",
    "        K_star  += f[i] / K[i]\n",
    "        mu_star += f[i] / mu[i]\n",
    "    return 1/K_star, 1/mu_star\n",
    "\n",
    "def HS(K,mu,f,K_0,mu_0):\n",
    "    K_star = 0; mu_star = 0; K_star_ = 0; mu_star_ = 0\n",
    "    s_1, s_2 = A_coefficients(K_0,mu_0)\n",
    "    for i in range(len(f)):\n",
    "        if i > 0:\n",
    "            K_star  += f[i] * (K[i]  - K[0])  / (1 + s_1 * (K[i]/K_0 - 1))\n",
    "            mu_star += f[i] * (mu[i] - mu[0]) / (1 + s_2 * (mu[i]/mu_0 - 1))   \n",
    "\n",
    "        K_star_  += (f[i] * (1 / (1 + s_1 * (K[i]/K_0 - 1))))\n",
    "        mu_star_ += (f[i] * (1 / (1 + s_2 * (mu[i]/mu_0 - 1))))\n",
    "\n",
    "    return K_star/K_star_ + K[0], mu_star/mu_star_ + mu[0]\n",
    "\n",
    "def DD_E(K,mu,f):\n",
    "    K_star = 0; mu_star = 0\n",
    "    s_1, s_2 = A_coefficients(K[0],mu[0])\n",
    "    for i in range(len(f)):\n",
    "        if i > 0:\n",
    "            K_star  += f[i] * (K[i]  - K[0])  / (1 + s_1 * (K[i]/K[0] - 1))\n",
    "            mu_star += f[i] * (mu[i] - mu[0]) / (1 + s_2 * (mu[i]/mu[0] - 1)) \n",
    "\n",
    "    return K_star + K[0], mu_star + mu[0]\n",
    "\n",
    "def SC(K,mu,f):\n",
    "    tolerance = 1e-6\n",
    "    max_iterations = 100\n",
    "    k = 0\n",
    "    K_SC, mu_SC = HS(K,mu,f,K[0],mu[0])\n",
    "\n",
    "    def SC_fun(K_star,mu_star,f):\n",
    "        K_star_1 = 0; mu_star_1 = 0; K_star_2 = 0; mu_star_2 = 0\n",
    "        s_1, s_2 = A_coefficients(K_star,mu_star)\n",
    "        for i in range(len(f)):\n",
    "            if i > 0:\n",
    "                K_star_1  += f[i] * (K[i]  - K[0])  / (1 + s_1 * (K[i]/K_star - 1))\n",
    "                mu_star_1 += f[i] * (mu[i] - mu[0]) / (1 + s_2 * (mu[i]/mu_star - 1))   \n",
    "\n",
    "            K_star_2  += f[i] * (1 / (1 + s_1 * (K[i]/K_star - 1)))\n",
    "            mu_star_2 += f[i] * (1 / (1 + s_2 * (mu[i]/mu_star - 1)))\n",
    "\n",
    "        return K_star_1/K_star_2 + K[0], mu_star_1/mu_star_2 + mu[0]\n",
    "\n",
    "    for i in range(max_iterations):\n",
    "        K_new, mu_new = SC_fun(K_SC,mu_SC,f)\n",
    "        if (abs(K_new - K_SC) < tolerance) and (abs(mu_new - mu_SC) < tolerance):\n",
    "            break\n",
    "        K_SC, mu_SC = K_new, mu_new\n",
    "        k += 1\n",
    "    return K_SC, mu_SC\n",
    "\n",
    "def diff(K,mu,f,xi):\n",
    "    y0 = [K[0], mu[0]]\n",
    "\n",
    "    t0 = 0\n",
    "    tfinal = 1 - f[0]\n",
    "    ts = np.linspace(t0, tfinal, 100)\n",
    "\n",
    "    def diff_fun(c_i,y,):\n",
    "        K_star, mu_star = y\n",
    "        K_sum, mu_sum = 0.0, 0.0\n",
    "        f_bar_i = [x / (1-c_i) for x in xi]\n",
    "        s_1, s_2 = A_coefficients(K_star,mu_star)\n",
    "        for i in range(len(f_bar_i)):\n",
    "            K_sum  += f_bar_i[i] * (K[i+1]  - K_star)  / (1 + s_1 * (K[i+1]/K_star - 1))  \n",
    "            mu_sum += f_bar_i[i] * (mu[i+1] - mu_star) / (1 + s_2 * (mu[i+1]/mu_star - 1))\n",
    "        K_star  = K_sum \n",
    "        mu_star = mu_sum\n",
    "        return [K_star, mu_star]\n",
    "\n",
    "    sol = integrate.solve_ivp(diff_fun,[0,tfinal],y0, t_eval=ts,method='RK45')\n",
    "    return sol.y[0,-1], sol.y[1,-1]\n",
    "\n",
    "class MFA:\n",
    "    def __init__(self,materials,f,xi,method):\n",
    "        self.method = method\n",
    "        self.K = [x.K for x in materials]\n",
    "        self.mu = [x.mu for x in materials]\n",
    "        self.f = f\n",
    "        self.xi = xi\n",
    "\n",
    "        self.K_star, self.mu_star = self.Homogenize()\n",
    "\n",
    "    def Homogenize(self):\n",
    "        K_star = 0; mu_star = 0\n",
    "        K = self.K; mu = self.mu\n",
    "        f = self.f\n",
    "        method = self.method\n",
    "        if method == 'Voigt':\n",
    "            K_star, mu_star = Voigt(K,mu,f)\n",
    "        elif method == 'Reuss':\n",
    "            K_star, mu_star = Reuss(K,mu,f)\n",
    "        elif method == 'MT':\n",
    "            K_0 = K[0]\n",
    "            mu_0 = mu[0]\n",
    "            K_star, mu_star = HS(K,mu,f,K_0,mu_0)\n",
    "        elif method == 'HS+':\n",
    "            K_0 = np.max(K)\n",
    "            mu_0 = np.max(mu)\n",
    "            K_star, mu_star = HS(K,mu,f,K_0,mu_0)\n",
    "        elif method == 'HS-':\n",
    "            K_0 = np.min(K)\n",
    "            mu_0 = np.min(mu)\n",
    "            K_star, mu_star = HS(K,mu,f,K_0,mu_0)\n",
    "        elif method == 'DD:E':\n",
    "            K_0 = K[0]\n",
    "            mu_0 = mu[0]\n",
    "            K_star, mu_star = DD_E(K,mu,f)\n",
    "        elif method == 'SC':\n",
    "            K_star, mu_star = SC(K,mu,f)\n",
    "        elif method == 'Diff':\n",
    "            K_star, mu_star = diff(K,mu,f,self.xi)\n",
    "        else:\n",
    "            print('Method not recognized')\n",
    "        \n",
    "        return K_star, mu_star\n",
    "\n",
    "\n",
    "def calculate_2D_isotropic_C_Reuss(E_fiber,E_matrix,vf):\n",
    "    #K_matrix = K_from_E_nu(E_matrix,0.3); K_fiber = K_from_E_nu(E_fiber,0.3)\n",
    "    mu_matrix = mu_from_E_nu(E_matrix,0.3); mu_fiber = mu_from_E_nu(E_fiber,0.3)\n",
    "    #K_Reuss = 1/(vf/K_fiber + (1-vf)/K_matrix)\n",
    "    mu_Reuss = 1/(vf/mu_fiber + (1-vf)/mu_matrix)\n",
    "    kappa = (3 - 0.3)/(1 + 0.3) # plane stress, nu = 0.3\n",
    "\n",
    "    C11 = (kappa + 1)/(kappa - 1)\n",
    "    C12 = -(kappa - 3)/(kappa - 1)\n",
    "    C33 = 1\n",
    "\n",
    "    C = np.array([[C11, C12, 0],\n",
    "                  [C12, C11, 0],\n",
    "                  [0, 0, C33]]) * mu_Reuss\n",
    "    return C\n",
    "\n",
    "def calculate_2D_isotropic_C_Voight(E_fiber,E_matrix,vf):\n",
    "    #K_matrix = K_from_E_nu(E_matrix,0.3); K_fiber = K_from_E_nu(E_fiber,0.3)\n",
    "    mu_matrix = mu_from_E_nu(E_matrix,0.3); mu_fiber = mu_from_E_nu(E_fiber,0.3)\n",
    "    #K_Reuss = vf*K_fiber + (1-vf)*K_matrix\n",
    "    # mu_Reuss = vf*mu_fiber + (1-vf)*mu_matrix\n",
    "    kappa = (3 - 0.3)/(1 + 0.3) # plane stress, nu = 0.3\n",
    "\n",
    "    C11 = (kappa + 1)/(kappa - 1)\n",
    "    C12 = -(kappa - 3)/(kappa - 1)\n",
    "    C33 = 1\n",
    "\n",
    "    C_base = np.array([[C11, C12, 0],\n",
    "                       [C12, C11, 0],\n",
    "                       [0, 0, C33]])\n",
    "    \n",
    "    C_matrix = C_base * mu_matrix\n",
    "    C_fiber  = C_base * mu_fiber\n",
    "    C_Voight = vf * C_fiber + (1 - vf) * C_matrix\n",
    "    \n",
    "    return C_Voight\n",
    "contrast_ratios_mfa = [[1.E3, 10.E3],\n",
    "                       [1.E3, 100.E3],\n",
    "                       [1.E3, 1000.E3],\n",
    "                       [10.E3, 1.E3],\n",
    "                       [100.E3, 1.E3],\n",
    "                       [1000.E3, 1.E3]]\n",
    "def MFA_C_matrix(r_index, vf, method):\n",
    "    materials = []\n",
    "    for r in contrast_ratios_mfa[r_index]:\n",
    "        materials.append(Material(E=r, nu=0.3))\n",
    "    mfa = MFA(materials=materials,\n",
    "              f=[1-vf, vf],\n",
    "              xi=[1],\n",
    "              method=method)\n",
    "    K, mu = mfa.K_star, mfa.mu_star\n",
    "    E, nu = E_from_K_mu(K, mu), nu_from_K_mu(K, mu)\n",
    "    C = calculate_2D_orthotropic_C_matrix(E, nu, E, nu, mu)\n",
    "    return C\n",
    "\n",
    "def flatten_C(C):\n",
    "    return [C[0,0], C[0,1], C[1,1], C[2,2]]\n",
    "\n",
    "#def calculate_coef(labels,properties,r_index):\n",
    "#    mfa_c = calculate_2D_isotropic_C_Voight(*contrast_ratios_fem[r_index], labels[\"Vf\"])\n",
    "#    inverse_mfa_c = np.linalg.inv(mfa_c)\n",
    "#    fem_c = calculate_2D_orthotropic_C_matrix(*properties[r_index])\n",
    "#    coef = np.identity(3) - inverse_mfa_c @ fem_c\n",
    "#    return [flatten_C(coef), flatten_C(fem_c), flatten_C(mfa_c)]\n",
    "\n",
    "def calculate_mfa_coef(labels,properties,r_index,mfa_c):\n",
    "    #mfa_c = calculate_2D_isotropic_C_Voight(*contrast_ratios[r_index], labels[\"Vf\"])\n",
    "    inverse_mfa_c = np.linalg.inv(mfa_c)\n",
    "    fem_c = calculate_2D_orthotropic_C_matrix(*properties[r_index])\n",
    "    coef = np.identity(3) - inverse_mfa_c @ fem_c\n",
    "    return [flatten_C(coef), flatten_C(fem_c), flatten_C(mfa_c)]\n"
   ]
  },
  {
   "cell_type": "code",
   "execution_count": 2,
   "metadata": {},
   "outputs": [],
   "source": [
    "def mfa_iso(r_index,vf,method):\n",
    "    materials = []\n",
    "    for r in contrast_ratios_mfa[r_index]:\n",
    "        materials.append(Material(E=r, nu=0.3))\n",
    "    mfa = MFA(materials=materials,\n",
    "              f=[1-vf, vf],\n",
    "              xi=[1],\n",
    "              method=method)\n",
    "    K, mu = mfa.K_star, mfa.mu_star\n",
    "    return K, mu\n",
    "def calculate_mfa_coef_iso(iso_data,mfa_c_iso):\n",
    "    #mfa_c = calculate_2D_isotropic_C_Voight(*contrast_ratios[r_index], labels[\"Vf\"])\n",
    "    inverse_mfa_c = 1/mfa_c_iso\n",
    "    coef = 1 - inverse_mfa_c*iso_data\n",
    "    return coef"
   ]
  },
  {
   "cell_type": "code",
   "execution_count": 3,
   "metadata": {},
   "outputs": [
    {
     "name": "stderr",
     "output_type": "stream",
     "text": [
      "Processing Images: 100%|██████████| 9989/9989 [00:26<00:00, 381.18image/s]\n"
     ]
    },
    {
     "name": "stdout",
     "output_type": "stream",
     "text": [
      "Reuss\n"
     ]
    },
    {
     "name": "stderr",
     "output_type": "stream",
     "text": [
      "100%|██████████| 9974/9974 [00:00<00:00, 241237.66it/s]\n"
     ]
    },
    {
     "name": "stdout",
     "output_type": "stream",
     "text": [
      "Voigt\n"
     ]
    },
    {
     "name": "stderr",
     "output_type": "stream",
     "text": [
      "100%|██████████| 9974/9974 [00:00<00:00, 249819.29it/s]\n"
     ]
    },
    {
     "name": "stdout",
     "output_type": "stream",
     "text": [
      "HS-\n"
     ]
    },
    {
     "name": "stderr",
     "output_type": "stream",
     "text": [
      "100%|██████████| 9974/9974 [00:00<00:00, 72330.59it/s]\n"
     ]
    },
    {
     "name": "stdout",
     "output_type": "stream",
     "text": [
      "HS+\n"
     ]
    },
    {
     "name": "stderr",
     "output_type": "stream",
     "text": [
      "100%|██████████| 9974/9974 [00:00<00:00, 71318.59it/s]\n"
     ]
    },
    {
     "name": "stdout",
     "output_type": "stream",
     "text": [
      "MT\n"
     ]
    },
    {
     "name": "stderr",
     "output_type": "stream",
     "text": [
      "100%|██████████| 9974/9974 [00:00<00:00, 201778.78it/s]\n"
     ]
    },
    {
     "name": "stdout",
     "output_type": "stream",
     "text": [
      "SC\n"
     ]
    },
    {
     "name": "stderr",
     "output_type": "stream",
     "text": [
      "100%|██████████| 9974/9974 [00:00<00:00, 59249.07it/s]\n"
     ]
    },
    {
     "name": "stdout",
     "output_type": "stream",
     "text": [
      "Diff\n"
     ]
    },
    {
     "name": "stderr",
     "output_type": "stream",
     "text": [
      "100%|██████████| 9974/9974 [00:02<00:00, 3812.06it/s]\n"
     ]
    },
    {
     "name": "stdout",
     "output_type": "stream",
     "text": [
      "Reuss\n"
     ]
    },
    {
     "name": "stderr",
     "output_type": "stream",
     "text": [
      "100%|██████████| 9974/9974 [00:00<00:00, 260740.50it/s]\n"
     ]
    },
    {
     "name": "stdout",
     "output_type": "stream",
     "text": [
      "Voigt\n"
     ]
    },
    {
     "name": "stderr",
     "output_type": "stream",
     "text": [
      "100%|██████████| 9974/9974 [00:00<00:00, 258496.18it/s]\n"
     ]
    },
    {
     "name": "stdout",
     "output_type": "stream",
     "text": [
      "HS-\n"
     ]
    },
    {
     "name": "stderr",
     "output_type": "stream",
     "text": [
      "100%|██████████| 9974/9974 [00:00<00:00, 71697.87it/s]\n"
     ]
    },
    {
     "name": "stdout",
     "output_type": "stream",
     "text": [
      "HS+\n"
     ]
    },
    {
     "name": "stderr",
     "output_type": "stream",
     "text": [
      "100%|██████████| 9974/9974 [00:00<00:00, 77621.71it/s]\n"
     ]
    },
    {
     "name": "stdout",
     "output_type": "stream",
     "text": [
      "MT\n"
     ]
    },
    {
     "name": "stderr",
     "output_type": "stream",
     "text": [
      "100%|██████████| 9974/9974 [00:00<00:00, 205897.20it/s]\n"
     ]
    },
    {
     "name": "stdout",
     "output_type": "stream",
     "text": [
      "SC\n"
     ]
    },
    {
     "name": "stderr",
     "output_type": "stream",
     "text": [
      "100%|██████████| 9974/9974 [00:00<00:00, 36998.11it/s]\n"
     ]
    },
    {
     "name": "stdout",
     "output_type": "stream",
     "text": [
      "Diff\n"
     ]
    },
    {
     "name": "stderr",
     "output_type": "stream",
     "text": [
      "100%|██████████| 9974/9974 [00:02<00:00, 3959.73it/s]\n"
     ]
    },
    {
     "name": "stdout",
     "output_type": "stream",
     "text": [
      "Reuss\n"
     ]
    },
    {
     "name": "stderr",
     "output_type": "stream",
     "text": [
      "100%|██████████| 9974/9974 [00:00<00:00, 233774.73it/s]\n"
     ]
    },
    {
     "name": "stdout",
     "output_type": "stream",
     "text": [
      "Voigt\n"
     ]
    },
    {
     "name": "stderr",
     "output_type": "stream",
     "text": [
      "100%|██████████| 9974/9974 [00:00<00:00, 239898.55it/s]\n"
     ]
    },
    {
     "name": "stdout",
     "output_type": "stream",
     "text": [
      "HS-\n"
     ]
    },
    {
     "name": "stderr",
     "output_type": "stream",
     "text": [
      "100%|██████████| 9974/9974 [00:00<00:00, 74521.77it/s]\n"
     ]
    },
    {
     "name": "stdout",
     "output_type": "stream",
     "text": [
      "HS+\n"
     ]
    },
    {
     "name": "stderr",
     "output_type": "stream",
     "text": [
      "100%|██████████| 9974/9974 [00:00<00:00, 74481.30it/s]\n"
     ]
    },
    {
     "name": "stdout",
     "output_type": "stream",
     "text": [
      "MT\n"
     ]
    },
    {
     "name": "stderr",
     "output_type": "stream",
     "text": [
      "100%|██████████| 9974/9974 [00:00<00:00, 206651.89it/s]\n"
     ]
    },
    {
     "name": "stdout",
     "output_type": "stream",
     "text": [
      "SC\n"
     ]
    },
    {
     "name": "stderr",
     "output_type": "stream",
     "text": [
      "100%|██████████| 9974/9974 [00:00<00:00, 26953.93it/s]\n"
     ]
    },
    {
     "name": "stdout",
     "output_type": "stream",
     "text": [
      "Diff\n"
     ]
    },
    {
     "name": "stderr",
     "output_type": "stream",
     "text": [
      "100%|██████████| 9974/9974 [00:02<00:00, 4003.55it/s]\n"
     ]
    },
    {
     "name": "stdout",
     "output_type": "stream",
     "text": [
      "Reuss\n"
     ]
    },
    {
     "name": "stderr",
     "output_type": "stream",
     "text": [
      "100%|██████████| 9974/9974 [00:00<00:00, 236374.25it/s]\n"
     ]
    },
    {
     "name": "stdout",
     "output_type": "stream",
     "text": [
      "Voigt\n"
     ]
    },
    {
     "name": "stderr",
     "output_type": "stream",
     "text": [
      "100%|██████████| 9974/9974 [00:00<00:00, 257167.72it/s]\n"
     ]
    },
    {
     "name": "stdout",
     "output_type": "stream",
     "text": [
      "HS-\n"
     ]
    },
    {
     "name": "stderr",
     "output_type": "stream",
     "text": [
      "100%|██████████| 9974/9974 [00:00<00:00, 78058.10it/s]\n"
     ]
    },
    {
     "name": "stdout",
     "output_type": "stream",
     "text": [
      "HS+\n"
     ]
    },
    {
     "name": "stderr",
     "output_type": "stream",
     "text": [
      "100%|██████████| 9974/9974 [00:00<00:00, 75064.66it/s]\n"
     ]
    },
    {
     "name": "stdout",
     "output_type": "stream",
     "text": [
      "MT\n"
     ]
    },
    {
     "name": "stderr",
     "output_type": "stream",
     "text": [
      "100%|██████████| 9974/9974 [00:00<00:00, 207378.19it/s]\n"
     ]
    },
    {
     "name": "stdout",
     "output_type": "stream",
     "text": [
      "SC\n"
     ]
    },
    {
     "name": "stderr",
     "output_type": "stream",
     "text": [
      "100%|██████████| 9974/9974 [00:00<00:00, 58157.20it/s]\n"
     ]
    },
    {
     "name": "stdout",
     "output_type": "stream",
     "text": [
      "Diff\n"
     ]
    },
    {
     "name": "stderr",
     "output_type": "stream",
     "text": [
      "100%|██████████| 9974/9974 [00:02<00:00, 3790.52it/s]\n"
     ]
    },
    {
     "name": "stdout",
     "output_type": "stream",
     "text": [
      "Reuss\n"
     ]
    },
    {
     "name": "stderr",
     "output_type": "stream",
     "text": [
      "100%|██████████| 9974/9974 [00:00<00:00, 242423.12it/s]\n"
     ]
    },
    {
     "name": "stdout",
     "output_type": "stream",
     "text": [
      "Voigt\n"
     ]
    },
    {
     "name": "stderr",
     "output_type": "stream",
     "text": [
      "100%|██████████| 9974/9974 [00:00<00:00, 242870.68it/s]\n"
     ]
    },
    {
     "name": "stdout",
     "output_type": "stream",
     "text": [
      "HS-\n"
     ]
    },
    {
     "name": "stderr",
     "output_type": "stream",
     "text": [
      "100%|██████████| 9974/9974 [00:00<00:00, 72469.42it/s]\n"
     ]
    },
    {
     "name": "stdout",
     "output_type": "stream",
     "text": [
      "HS+\n"
     ]
    },
    {
     "name": "stderr",
     "output_type": "stream",
     "text": [
      "100%|██████████| 9974/9974 [00:00<00:00, 76119.65it/s]\n"
     ]
    },
    {
     "name": "stdout",
     "output_type": "stream",
     "text": [
      "MT\n"
     ]
    },
    {
     "name": "stderr",
     "output_type": "stream",
     "text": [
      "100%|██████████| 9974/9974 [00:00<00:00, 212771.09it/s]\n"
     ]
    },
    {
     "name": "stdout",
     "output_type": "stream",
     "text": [
      "SC\n"
     ]
    },
    {
     "name": "stderr",
     "output_type": "stream",
     "text": [
      "100%|██████████| 9974/9974 [00:00<00:00, 34753.46it/s]\n"
     ]
    },
    {
     "name": "stdout",
     "output_type": "stream",
     "text": [
      "Diff\n"
     ]
    },
    {
     "name": "stderr",
     "output_type": "stream",
     "text": [
      "100%|██████████| 9974/9974 [00:03<00:00, 2642.21it/s]\n"
     ]
    },
    {
     "name": "stdout",
     "output_type": "stream",
     "text": [
      "Reuss\n"
     ]
    },
    {
     "name": "stderr",
     "output_type": "stream",
     "text": [
      "100%|██████████| 9974/9974 [00:00<00:00, 246514.41it/s]\n"
     ]
    },
    {
     "name": "stdout",
     "output_type": "stream",
     "text": [
      "Voigt\n"
     ]
    },
    {
     "name": "stderr",
     "output_type": "stream",
     "text": [
      "100%|██████████| 9974/9974 [00:00<00:00, 255990.63it/s]\n"
     ]
    },
    {
     "name": "stdout",
     "output_type": "stream",
     "text": [
      "HS-\n"
     ]
    },
    {
     "name": "stderr",
     "output_type": "stream",
     "text": [
      "100%|██████████| 9974/9974 [00:00<00:00, 74058.71it/s]\n"
     ]
    },
    {
     "name": "stdout",
     "output_type": "stream",
     "text": [
      "HS+\n"
     ]
    },
    {
     "name": "stderr",
     "output_type": "stream",
     "text": [
      "100%|██████████| 9974/9974 [00:00<00:00, 68936.63it/s]\n"
     ]
    },
    {
     "name": "stdout",
     "output_type": "stream",
     "text": [
      "MT\n"
     ]
    },
    {
     "name": "stderr",
     "output_type": "stream",
     "text": [
      "100%|██████████| 9974/9974 [00:00<00:00, 198921.50it/s]\n"
     ]
    },
    {
     "name": "stdout",
     "output_type": "stream",
     "text": [
      "SC\n"
     ]
    },
    {
     "name": "stderr",
     "output_type": "stream",
     "text": [
      "100%|██████████| 9974/9974 [00:00<00:00, 24287.63it/s]\n"
     ]
    },
    {
     "name": "stdout",
     "output_type": "stream",
     "text": [
      "Diff\n"
     ]
    },
    {
     "name": "stderr",
     "output_type": "stream",
     "text": [
      "100%|██████████| 9974/9974 [00:02<00:00, 3587.27it/s]\n"
     ]
    }
   ],
   "source": [
    "MICRO2D_homogenized = h5py.File(\"MICRO2D_homogenized.h5\", \"r\")\n",
    "VoidSmall = MICRO2D_homogenized[\"VoidSmall\"]\n",
    "\n",
    "methods = ['Reuss', 'Voigt', 'HS-', 'HS+', 'MT',  'SC', 'Diff']  # ,'DD:E' #  \n",
    "\n",
    "indexses = [1434, 2229, 3013, 4921,5502, 5670, 5956, 5989, 6250, 6270, 7425, 8099, 8294, 8361, 9358]\n",
    "\n",
    "VoidSmall_parsed_labels = [label for i, label in enumerate(parse_all_vectors(VoidSmall[\"VoidSmall - labels\"])) if i not in indexses]\n",
    "VoidSmall_centroids = [centroids for i, centroids in enumerate(process_images(VoidSmall[\"VoidSmall\"])) if i not in indexses]\n",
    "\n",
    "VoidSmall_num_centroids = [len(image_centroids) for image_centroids in VoidSmall_centroids]\n",
    "VoidSmall_average_centroids = sum(VoidSmall_num_centroids) / len(VoidSmall_num_centroids)\n",
    "VoidSmall_volume_fractions = [calculate_volume_fraction(image) for i, image in enumerate(VoidSmall[\"VoidSmall\"]) if i not in indexses]\n",
    "VoidSmall_radius = [5.5 for _ in range(len(VoidSmall_num_centroids))]\n",
    "\n",
    "VoidSmall_ratio = [VoidSmall_num_centroids[i] / VoidSmall_volume_fractions[i] for i in range(len(VoidSmall_num_centroids))]\n",
    "VoidSmall_indexes = np.where(np.array(VoidSmall_ratio) < 809)[0]\n",
    "\n",
    "for i in range(len(VoidSmall_parsed_labels)):\n",
    "    VoidSmall_parsed_labels[i]['centroids'] = VoidSmall_centroids[i]\n",
    "    VoidSmall_parsed_labels[i]['num_centroids'] = VoidSmall_num_centroids[i]\n",
    "    VoidSmall_parsed_labels[i]['calculated_vf'] = VoidSmall_volume_fractions[i]\n",
    "    VoidSmall_parsed_labels[i]['radius'] = VoidSmall_radius[i]\n",
    "\n",
    "MFA_results = {}\n",
    "true_vfs = [label['Vf'] for label in VoidSmall_parsed_labels]\n",
    "\n",
    "for r_index in range(6):\n",
    "    MFA_results[r_index] = {}\n",
    "    for method in (methods):\n",
    "        print(method)\n",
    "        MFA_results[r_index][method] = {}\n",
    "        for vf in tqdm(true_vfs):\n",
    "            C_matrix = MFA_C_matrix(r_index, vf, method)\n",
    "            MFA_results[r_index][method][vf] = C_matrix"
   ]
  },
  {
   "cell_type": "code",
   "execution_count": 4,
   "metadata": {},
   "outputs": [],
   "source": [
    "homogenized_mechanical = [[list(val) for val in list(VoidSmall['homogenized_mechanical'][i])] for i in range(len(VoidSmall['homogenized_mechanical'])) if i not in indexses]\n",
    "imgs = [VoidSmall['VoidSmall'][i] for i in range(len(VoidSmall['VoidSmall'])) if i not in indexses]"
   ]
  },
  {
   "cell_type": "code",
   "execution_count": 5,
   "metadata": {},
   "outputs": [],
   "source": [
    "for i in range(len(VoidSmall_parsed_labels)):\n",
    "    coef  = []\n",
    "    coef_diff = []\n",
    "    coef_mt = []\n",
    "    coef_sc = []\n",
    "    coef_hsp = []\n",
    "    coef_hsn = []\n",
    "    coef_r = []\n",
    "    coef_v = []\n",
    "    c_fem = []\n",
    "    c_mfa = []\n",
    "    c_diff = []\n",
    "    c_mt = []\n",
    "    c_sc = []\n",
    "    c_hsp = []\n",
    "    c_hsn = []\n",
    "    c_r = []\n",
    "    c_v = []\n",
    "    for r in range(6):\n",
    "        coef_, c_fem_, c_mfa_ = calculate_mfa_coef(VoidSmall_parsed_labels[i], homogenized_mechanical[i], r_index=r,mfa_c=MFA_results[r]['Diff'][VoidSmall_parsed_labels[i]['Vf']])\n",
    "        coef_diff_, c_fem_, c_mfa_diff = calculate_mfa_coef(VoidSmall_parsed_labels[i], homogenized_mechanical[i], r_index=r,mfa_c=MFA_results[r]['Diff'][VoidSmall_parsed_labels[i]['Vf']])\n",
    "        coef_mt_, c_fem_, c_mfa_mt = calculate_mfa_coef(VoidSmall_parsed_labels[i], homogenized_mechanical[i], r_index=r,mfa_c=MFA_results[r]['MT'][VoidSmall_parsed_labels[i]['Vf']])\n",
    "        coef_sc_, c_fem_, c_mfa_sc = calculate_mfa_coef(VoidSmall_parsed_labels[i], homogenized_mechanical[i], r_index=r,mfa_c=MFA_results[r]['SC'][VoidSmall_parsed_labels[i]['Vf']])\n",
    "        coef_hsp_, c_fem_, c_mfa_hsp = calculate_mfa_coef(VoidSmall_parsed_labels[i], homogenized_mechanical[i], r_index=r,mfa_c=MFA_results[r]['HS+'][VoidSmall_parsed_labels[i]['Vf']])\n",
    "        coef_hsn_, c_fem_, c_mfa_hsn = calculate_mfa_coef(VoidSmall_parsed_labels[i], homogenized_mechanical[i], r_index=r,mfa_c=MFA_results[r]['HS-'][VoidSmall_parsed_labels[i]['Vf']])\n",
    "        coef_r_, c_fem_, c_mfa_r = calculate_mfa_coef(VoidSmall_parsed_labels[i], homogenized_mechanical[i], r_index=r,mfa_c=MFA_results[r]['Reuss'][VoidSmall_parsed_labels[i]['Vf']])\n",
    "        coef_v_, c_fem_, c_mfa_v = calculate_mfa_coef(VoidSmall_parsed_labels[i], homogenized_mechanical[i], r_index=r,mfa_c=MFA_results[r]['Voigt'][VoidSmall_parsed_labels[i]['Vf']])\n",
    "        coef.append(coef_)\n",
    "        coef_diff.append(coef_diff_)\n",
    "        coef_mt.append(coef_mt_)\n",
    "        coef_sc.append(coef_sc_)\n",
    "        coef_hsp.append(coef_hsp_)\n",
    "        coef_hsn.append(coef_hsn_)\n",
    "        coef_r.append(coef_r_)\n",
    "        coef_v.append(coef_v_)\n",
    "        c_fem.append(c_fem_)\n",
    "        c_mfa.append(c_mfa_)\n",
    "        c_diff.append(c_mfa_diff)\n",
    "        c_mt.append(c_mfa_mt)\n",
    "        c_sc.append(c_mfa_sc)\n",
    "        c_hsp.append(c_mfa_hsp)\n",
    "        c_hsn.append(c_mfa_hsn)\n",
    "        c_r.append(c_mfa_r)\n",
    "        c_v.append(c_mfa_v)\n",
    "    VoidSmall_parsed_labels[i]['C_coefs'] = coef\n",
    "    VoidSmall_parsed_labels[i]['C_coefs_diff'] = coef_diff\n",
    "    VoidSmall_parsed_labels[i]['C_coefs_mt'] = coef_mt\n",
    "    VoidSmall_parsed_labels[i]['C_coefs_sc'] = coef_sc\n",
    "    VoidSmall_parsed_labels[i]['C_coefs_hsp'] = coef_hsp\n",
    "    VoidSmall_parsed_labels[i]['C_coefs_hsn'] = coef_hsn\n",
    "    VoidSmall_parsed_labels[i]['C_coefs_r'] = coef_r\n",
    "    VoidSmall_parsed_labels[i]['C_coefs_v'] = coef_v\n",
    "    VoidSmall_parsed_labels[i]['C_fem'] = c_fem\n",
    "    VoidSmall_parsed_labels[i]['C_mfa'] = c_mfa\n",
    "    VoidSmall_parsed_labels[i]['C_diff'] = c_diff\n",
    "    VoidSmall_parsed_labels[i]['C_mt'] = c_mt\n",
    "    VoidSmall_parsed_labels[i]['C_sc'] = c_sc\n",
    "    VoidSmall_parsed_labels[i]['C_hsp'] = c_hsp\n",
    "    VoidSmall_parsed_labels[i]['C_hsn'] = c_hsn\n",
    "    VoidSmall_parsed_labels[i]['C_r'] = c_r\n",
    "    VoidSmall_parsed_labels[i]['C_v'] = c_v\n",
    "    VoidSmall_parsed_labels[i]['img'] = imgs[i]\n",
    "    "
   ]
  },
  {
   "cell_type": "code",
   "execution_count": 6,
   "metadata": {},
   "outputs": [],
   "source": [
    "VoidSmall_r = [E[1]/E[0] for E in contrast_ratios_mfa]\n",
    "for i in range(len(VoidSmall_parsed_labels)):\n",
    "    VoidSmall_parsed_labels[i]['contrast_ratios'] = VoidSmall_r"
   ]
  },
  {
   "cell_type": "code",
   "execution_count": 7,
   "metadata": {},
   "outputs": [],
   "source": [
    "def polygeom(x, y):\n",
    "    \"\"\"\n",
    "    Geometry of a planar polygon\n",
    " \n",
    "    Parameters:\n",
    "    x, y : array-like\n",
    "        Coordinates of vertices of the polygon\n",
    " \n",
    "    Returns:\n",
    "    geom : ndarray\n",
    "        [area, x_centroid, y_centroid, perimeter]\n",
    "    iner : ndarray\n",
    "        [Ixx, Iyy, Ixy, Iuu, Ivv, Iuv]\n",
    "        u,v are centroidal axes parallel to x,y axes.\n",
    "    cpmo : ndarray\n",
    "        [I1, ang1, I2, ang2, J]\n",
    "        I1,I2 are centroidal principal moments about axes at angles ang1,ang2.\n",
    "        ang1 and ang2 are in radians.\n",
    "        J is centroidal polar moment. J = I1 + I2 = Iuu + Ivv\n",
    "    \"\"\"\n",
    " \n",
    "    # Check if inputs are the same size\n",
    "    if len(x) != len(y):\n",
    "        raise ValueError('X and Y must be the same size')\n",
    " \n",
    "    # Ensure x and y are numpy arrays\n",
    "    x = np.asarray(x)\n",
    "    y = np.asarray(y)\n",
    " \n",
    "    # Number of vertices\n",
    "    n = len(x)\n",
    " \n",
    "    # Temporarily shift data to mean of vertices for improved accuracy\n",
    "    xm = np.mean(x)\n",
    "    ym = np.mean(y)\n",
    "    x = x - xm\n",
    "    y = y - ym\n",
    " \n",
    "    # Delta x and delta y\n",
    "    dx = np.roll(x, -1) - x\n",
    "    dy = np.roll(y, -1) - y\n",
    " \n",
    "    # Summations for CW boundary integrals\n",
    "    A = np.sum(y * dx - x * dy) / 2\n",
    "    Axc = np.sum(6 * x * y * dx - 3 * x * x * dy + 3 * y * dx * dx + dx * dx * dy) / 12\n",
    "    Ayc = np.sum(3 * y * y * dx - 6 * x * y * dy - 3 * x * dy * dy - dx * dy * dy) / 12\n",
    "    Ixx = np.sum(2 * y**3 * dx - 6 * x * y**2 * dy - 6 * x * y * dy**2 \n",
    "                 - 2 * x * dy**3 - 2 * y * dx * dy**2 - dx * dy**3) / 12\n",
    "    Iyy = np.sum(6 * x**2 * y * dx - 2 * x**3 * dy + 6 * x * y * dx**2 \n",
    "                 + 2 * y * dx**3 + 2 * x * dx**2 * dy + dx**3 * dy) / 12\n",
    "    Ixy = np.sum(6 * x * y**2 * dx - 6 * x**2 * y * dy + 3 * y**2 * dx**2 \n",
    "                 - 3 * x**2 * dy**2 + 2 * y * dx**2 * dy - 2 * x * dx * dy**2) / 24\n",
    "    P = np.sum(np.sqrt(dx**2 + dy**2))\n",
    " \n",
    "    # Check for CCW versus CW boundary\n",
    "    if A < 0:\n",
    "        A, Axc, Ayc, Ixx, Iyy, Ixy = [-A, -Axc, -Ayc, -Ixx, -Iyy, -Ixy]\n",
    " \n",
    "    # Centroidal moments\n",
    "    xc = Axc / A\n",
    "    yc = Ayc / A\n",
    "    Iuu = Ixx - A * yc**2\n",
    "    Ivv = Iyy - A * xc**2\n",
    "    Iuv = Ixy - A * xc * yc\n",
    "    J = Iuu + Ivv\n",
    " \n",
    "    # Replace mean of vertices\n",
    "    x_cen = xc + xm\n",
    "    y_cen = yc + ym\n",
    "    Ixx = Iuu + A * y_cen**2\n",
    "    Iyy = Ivv + A * x_cen**2\n",
    "    Ixy = Iuv + A * x_cen * y_cen\n",
    " \n",
    "    # Principal moments and orientation\n",
    "    I = np.array([[Iuu, -Iuv], [-Iuv, Ivv]])\n",
    "    eig_val, eig_vec = np.linalg.eig(I)\n",
    "    I1, I2 = eig_val\n",
    "    ang1 = np.arctan2(eig_vec[1, 0], eig_vec[0, 0])\n",
    "    ang2 = np.arctan2(eig_vec[1, 1], eig_vec[0, 1])\n",
    " \n",
    "    # Return values\n",
    "    geom = np.array([A, x_cen, y_cen, P])\n",
    "    iner = np.array([Ixx, Iyy, Ixy, Iuu, Ivv, Iuv])\n",
    "    cpmo = np.array([I1, ang1, I2, ang2, J])\n",
    " \n",
    "    return geom, iner, cpmo\n",
    "# Periodic bounding box\n",
    "xmin, ymin, xmax, ymax = [0,0,256,256]\n",
    "bbox = [xmin, ymin, xmax, ymax]\n",
    "width = xmax - xmin\n",
    "height = ymax - ymin\n",
    "\n",
    "def is_inside(p):\n",
    "    return xmin <= p[0] <= xmax and ymin <= p[1] <= ymax\n",
    "\n",
    "def calculate_Voronoi_cells(centroids):\n",
    "    # centroids = []\n",
    "    # for i in range(1):\n",
    "    #     i = 6\n",
    "    #     # image = VoidSmall[\"VoidSmall\"][i]\n",
    "    #     centroids = VoidSmall_centroids[i]\n",
    "    #     for centroid in centroids:\n",
    "    #         x = centroid[0]\n",
    "    #         y = centroid[1]\n",
    "    #         centroids.append([x, y])\n",
    "\n",
    "    # Original point cloud\n",
    "    points = np.array(centroids)  # n x 2 array\n",
    "    \n",
    "    # Create ghost points\n",
    "    ghost_points = np.vstack([\n",
    "        points + [width, 0],    # Right\n",
    "        points - [width, 0],    # Left\n",
    "        points + [0, height],   # Top\n",
    "        points - [0, height],   # Bottom\n",
    "        points + [width, height],    # Top-Right\n",
    "        points + [-width, height],   # Top-Left\n",
    "        points + [width, -height],   # Bottom-Right\n",
    "        points + [-width, -height],  # Bottom-Left\n",
    "    ])\n",
    "\n",
    "    \n",
    "    # Combine original points with ghost points\n",
    "    all_points = np.vstack([points, ghost_points])\n",
    "\n",
    "    vor = Voronoi(all_points)\n",
    "\n",
    "    cells_inside = []\n",
    "    for i, point in enumerate(points):\n",
    "        if is_inside(point):\n",
    "            cell = vor.regions[vor.point_region[i]]\n",
    "            if -1 not in cell:  # Exclude cells with infinite regions\n",
    "                cells_inside.append(cell)\n",
    "\n",
    "    assert len(cells_inside) == len(points), \"Number of cells does not match number of original points\"\n",
    "\n",
    "    # Calculate cell centers\n",
    "    cell_centers = []\n",
    "    for cell in cells_inside:\n",
    "        if cell:\n",
    "            vertices = vor.vertices[cell]\n",
    "            center = vertices.mean(axis=0)\n",
    "            cell_centers.append(center)\n",
    "    \n",
    "    cell_centers = np.array(cell_centers)\n",
    "    \n",
    "    # Create subset of Voronoi diagram for cells inside the bounding box\n",
    "    vor_inside = {\n",
    "        'points': points,\n",
    "        'regions': cells_inside,\n",
    "        'ridge_points': [],\n",
    "        'ridge_vertices': [],\n",
    "        'vertices': vor.vertices,\n",
    "        'cell_centers': cell_centers\n",
    "    }\n",
    "    \n",
    "    # Filter ridges\n",
    "    for i, (p1, p2) in enumerate(vor.ridge_points):\n",
    "        if vor.regions[vor.point_region[p1]] in cells_inside and vor.regions[vor.point_region[p2]] in cells_inside:\n",
    "            vor_inside['ridge_points'].append([p1, p2])\n",
    "            vor_inside['ridge_vertices'].append(vor.ridge_vertices[i])\n",
    "    \n",
    "    # Convert lists to numpy arrays for consistency\n",
    "    vor_inside['ridge_points'] = np.array(vor_inside['ridge_points'])\n",
    "    vor_inside['ridge_vertices'] = np.array(vor_inside['ridge_vertices'])\n",
    "\n",
    "    region_to_cell = {tuple(region): i for i, region in enumerate(vor_inside['regions'])}\n",
    "    \n",
    "    # Create edge list\n",
    "    edge_list = []\n",
    "    seen_edges = set()  # To avoid duplicates\n",
    "    \n",
    "    for p1, p2 in vor_inside['ridge_points']:\n",
    "        # Get the regions (cells) for these points\n",
    "        region1 = tuple(vor.regions[vor.point_region[p1]])\n",
    "        region2 = tuple(vor.regions[vor.point_region[p2]])\n",
    "        # Check if both regions are in our vor_inside subset\n",
    "        if region1 in region_to_cell and region2 in region_to_cell:\n",
    "            cell1 = region_to_cell[region1]\n",
    "            cell2 = region_to_cell[region2]\n",
    "            # Ensure the edge is not a duplicate and cells are different\n",
    "            edge = tuple(sorted([cell1, cell2]))\n",
    "            if edge not in seen_edges and cell1 != cell2:\n",
    "                edge_list.append(edge)\n",
    "                seen_edges.add(edge)\n",
    "    \n",
    "    # Convert to numpy array and sort\n",
    "    edge_list = np.array(edge_list)\n",
    "    edge_list = edge_list[np.lexsort((edge_list[:,1], edge_list[:,0]))]\n",
    "    \n",
    "    # Add edge_list to vor_inside\n",
    "    vor_inside['edge_list'] = edge_list\n",
    "\n",
    "    cell_properties = []\n",
    "    \n",
    "    for i, region in enumerate(vor_inside['regions']):\n",
    "        if len(region) > 0:  # Ensure the region is not empty\n",
    "            # Get vertices of the cell\n",
    "            vertices = vor_inside['vertices'][region]\n",
    "            # Separate x and y coordinates\n",
    "            x = vertices[:, 0]\n",
    "            y = vertices[:, 1]\n",
    "            # Calculate geometric properties\n",
    "            geom, iner, cpmo = polygeom(x, y)\n",
    "            # Store properties along with cell index\n",
    "            cell_properties.append({\n",
    "                'index': i,\n",
    "                'geom': geom,\n",
    "                'num_edges': len(region),\n",
    "                'iner': iner,\n",
    "                'cpmo': cpmo\n",
    "            })\n",
    "    \n",
    "    # Add cell_properties to vor_inside\n",
    "    vor_inside['cell_properties'] = cell_properties\n",
    "\n",
    "    return vor_inside"
   ]
  },
  {
   "cell_type": "code",
   "execution_count": 8,
   "metadata": {},
   "outputs": [],
   "source": [
    "# indexes =[1434, 2229, 3013, 4921,5502, 5670, 5956, 5989, 6250, 6270, 7425, 8099, 8294, 8361, 9358]\n",
    "VoidSmall_data_Voronoi = []\n",
    "# unique_keys = ['Local State', 'Method', 'Principal Lengths', 'Radius', 'Secondary Rotation', 'Angles', 'Additional Centers']\n",
    "unique_keys = set()\n",
    "for parsed in VoidSmall_parsed_labels:\n",
    "    unique_keys.update(parsed.keys())\n",
    "# Create the initial list of dictionaries\n",
    "VoidSmall_data_Voronoi = [{'centroids': label['centroids'], \n",
    "                           'centroids_n': np.array(label['centroids'])/256, \n",
    "                           'Vf': label['Vf'], \n",
    "                           'num_centroids': label['num_centroids'], \n",
    "                           'r_inclusion': label['radius'], \n",
    "                        #    'C_coefs_normalized': np.array(label['C_coefs_normalized']),\n",
    "                           'C_coefs': np.array(label['C_coefs']), \n",
    "                           'C_fem': np.array(label['C_fem']), \n",
    "                           'C_mfa': np.array(label['C_mfa']), \n",
    "                           'contrast_ratios': np.array(label['contrast_ratios'])} \n",
    "                           for label in (VoidSmall_parsed_labels)]\n",
    "# # indexes has merged inclusions so the center locations and volume fraction is not correct. One of them has \n",
    "# # error in its shear modulus. 15 graphs in total.\n",
    "\n",
    "# Add 'statistics' key for each dictionary in the list\n",
    "for i, data in enumerate(VoidSmall_data_Voronoi):\n",
    "    data['index'] = i\n",
    "    data['statistics'] = {}\n",
    "    for key in unique_keys:\n",
    "        if key in VoidSmall_parsed_labels[i]:\n",
    "            data['statistics'][key] = VoidSmall_parsed_labels[i][key]\n",
    "        else:\n",
    "            data['statistics'][key] = None"
   ]
  },
  {
   "cell_type": "code",
   "execution_count": 9,
   "metadata": {},
   "outputs": [],
   "source": [
    "def process_volume_element(volume_element):\n",
    "    voronoi_data = calculate_Voronoi_cells(volume_element['centroids'])\n",
    "    volume_element['voronoi_data'] = voronoi_data\n",
    "    volume_element['edge_list'] = voronoi_data['edge_list']\n",
    "    volume_element['cell_centers'] = voronoi_data['cell_centers']\n",
    "\n",
    "    volume_element['graph_index'] = volume_element['index']\n",
    "    volume_element['cell_index'] = []\n",
    "\n",
    "    x_list = []\n",
    "    pos_list = []\n",
    "\n",
    "    for i, cell in enumerate(voronoi_data['cell_properties']):\n",
    "        volume_element['cell_index'].append(cell['index'])\n",
    "        x_vec = np.hstack([\n",
    "                        voronoi_data['points'][i][0]/256,\n",
    "                        voronoi_data['points'][i][1]/256,\n",
    "                        voronoi_data['cell_properties'][i]['geom'][0],\n",
    "                        voronoi_data['cell_properties'][i]['geom'][3], \n",
    "                        voronoi_data['cell_properties'][i]['num_edges'],\n",
    "                        voronoi_data['cell_properties'][i]['iner'][3], \n",
    "                        voronoi_data['cell_properties'][i]['iner'][4], \n",
    "                        voronoi_data['cell_properties'][i]['iner'][5], \n",
    "                        voronoi_data['cell_properties'][i]['cpmo'][4], \n",
    "                        voronoi_data['cell_properties'][i]['cpmo'][0], \n",
    "                        voronoi_data['cell_properties'][i]['cpmo'][2], \n",
    "                        voronoi_data['cell_properties'][i]['cpmo'][1], \n",
    "                        voronoi_data['cell_properties'][i]['cpmo'][3], \n",
    "                        voronoi_data['cell_properties'][i]['iner'][0], \n",
    "                        voronoi_data['cell_properties'][i]['iner'][1], \n",
    "                        voronoi_data['cell_properties'][i]['iner'][2]])\n",
    "        x_list.append(x_vec)\n",
    "        pos_list.append(voronoi_data['points'][i])\n",
    "\n",
    "    volume_element['x'] = np.array(x_list)\n",
    "    volume_element['pos'] = np.array(pos_list)\n",
    "    \n",
    "    return volume_element\n",
    "\n",
    "# Use ProcessPoolExecutor to parallelize the processing\n",
    "with ProcessPoolExecutor() as executor:\n",
    "    results = list(executor.map(process_volume_element, VoidSmall_data_Voronoi))\n",
    "    \n",
    "# Update VoidSmall_data_Voronoi with the processed results\n",
    "# VoidSmall_data_Voronoi = results"
   ]
  },
  {
   "cell_type": "code",
   "execution_count": 10,
   "metadata": {},
   "outputs": [],
   "source": [
    "VoidSmall_data_Voronoi = results"
   ]
  },
  {
   "cell_type": "code",
   "execution_count": 11,
   "metadata": {},
   "outputs": [],
   "source": [
    "C_kappa = []\n",
    "C_mu = []\n",
    "D_kappa = []\n",
    "D_mu = []\n",
    "\n",
    "for i in range(6):\n",
    "    filename = f\"Micro2D{i+1}.csv\"\n",
    "    df = pd.read_csv(filename, usecols=[0,1,5,6])\n",
    "    C_kappa.append(df.iloc[:, 0].values)\n",
    "    C_mu.append(df.iloc[:, 1].values)\n",
    "    D_kappa.append(df.iloc[:, 2].values)\n",
    "    D_mu.append(df.iloc[:, 3].values)\n",
    "    \n",
    "C_kappa = np.array(C_kappa).transpose()\n",
    "C_mu = np.array(C_mu).transpose()\n",
    "D_kappa = np.array(D_kappa).transpose()\n",
    "D_mu = np.array(D_mu).transpose()\n",
    "Fem_mu = np.array(homogenized_mechanical)[:,:,4]"
   ]
  },
  {
   "cell_type": "code",
   "execution_count": 12,
   "metadata": {},
   "outputs": [],
   "source": [
    "mfa_iso_data = np.zeros((9974, 6, 2))\n",
    "for i in range(len(VoidSmall_parsed_labels)):\n",
    "    mfa_iso_data = []\n",
    "    for r in range(6):\n",
    "        K, mu = mfa_iso(r, true_vfs[i], 'Diff')\n",
    "        mfa_iso_data.append([K, mu])\n",
    "    VoidSmall_parsed_labels[i]['mfa_iso'] = mfa_iso_data"
   ]
  },
  {
   "cell_type": "code",
   "execution_count": 13,
   "metadata": {},
   "outputs": [],
   "source": [
    "for i in range(len(VoidSmall_parsed_labels)):\n",
    "    VoidSmall_parsed_labels[i]['iso_D_kappa'] = D_kappa[i,:]\n",
    "    VoidSmall_parsed_labels[i]['iso_C_mu'] = C_mu[i,:]\n",
    "    VoidSmall_parsed_labels[i]['iso_D_mu'] = D_mu[i,:]\n",
    "    VoidSmall_parsed_labels[i]['iso_Fem_mu'] = Fem_mu[i,:]"
   ]
  },
  {
   "cell_type": "code",
   "execution_count": 14,
   "metadata": {},
   "outputs": [],
   "source": [
    "\n",
    "coef_iso_C_mu = []\n",
    "coef_iso_D_mu = []\n",
    "coef_iso_Fem_mu = []\n",
    "for i in range(len(VoidSmall_parsed_labels)):\n",
    "    C_coefs_iso_C_mu = []\n",
    "    C_coefs_iso_D_mu = []\n",
    "    C_coefs_iso_Fem_mu = []\n",
    "    for r in range(6):\n",
    "        coef_D_kappa = calculate_mfa_coef_iso(VoidSmall_parsed_labels[i]['iso_D_kappa'][r],mfa_c_iso=VoidSmall_parsed_labels[i]['mfa_iso'][r][0])\n",
    "        coef_C_mu = calculate_mfa_coef_iso(VoidSmall_parsed_labels[i]['iso_C_mu'][r],mfa_c_iso=VoidSmall_parsed_labels[i]['mfa_iso'][r][1])\n",
    "        coef_D_mu = calculate_mfa_coef_iso(VoidSmall_parsed_labels[i]['iso_D_mu'][r],mfa_c_iso=VoidSmall_parsed_labels[i]['mfa_iso'][r][1])\n",
    "        coef_Fem_mu = calculate_mfa_coef_iso(VoidSmall_parsed_labels[i]['iso_Fem_mu'][r],mfa_c_iso=VoidSmall_parsed_labels[i]['mfa_iso'][r][1])\n",
    "\n",
    "        C_coefs_iso_C_mu.append([coef_D_kappa,coef_C_mu])\n",
    "        C_coefs_iso_D_mu.append([coef_D_kappa,coef_D_mu])\n",
    "        C_coefs_iso_Fem_mu.append([coef_D_kappa,coef_Fem_mu])\n",
    "    coef_iso_C_mu.append(C_coefs_iso_C_mu)\n",
    "    coef_iso_D_mu.append(C_coefs_iso_D_mu)\n",
    "    coef_iso_Fem_mu.append(C_coefs_iso_Fem_mu)\n",
    "\n",
    "for i in range(len(VoidSmall_parsed_labels)):\n",
    "    VoidSmall_parsed_labels[i]['C_coefs_iso_C_mu'] = coef_iso_C_mu[i]\n",
    "    VoidSmall_parsed_labels[i]['C_coefs_iso_D_mu'] = coef_iso_D_mu[i]\n",
    "    VoidSmall_parsed_labels[i]['C_coefs_iso_Fem_mu'] = coef_iso_Fem_mu[i]"
   ]
  },
  {
   "cell_type": "code",
   "execution_count": 15,
   "metadata": {},
   "outputs": [
    {
     "data": {
      "image/png": "[encoded data removed]",
      "text/plain": [
       "<Figure size 1200x200 with 6 Axes>"
      ]
     },
     "metadata": {},
     "output_type": "display_data"
    }
   ],
   "source": [
    "coef_iso_C_mu = np.array(coef_iso_C_mu)\n",
    "coef_iso_D_mu = np.array(coef_iso_D_mu)\n",
    "coef_iso_Fem_mu = np.array(coef_iso_Fem_mu)\n",
    "\n",
    "fig,ax = plt.subplots(1,6,figsize=(12, 2))\n",
    "ax = ax.flatten()\n",
    "\n",
    "for r in range(6):\n",
    "    ax[r].hist(coef_iso_C_mu[:,r,1],bins=20)\n",
    "    ax[r].hist(coef_iso_D_mu[:,r,1],bins=20)\n",
    "    ax[r].hist(coef_iso_Fem_mu[:,r,1],bins=20)\n",
    "plt.show()"
   ]
  },
  {
   "cell_type": "code",
   "execution_count": 16,
   "metadata": {},
   "outputs": [],
   "source": [
    "mfa_kappa = []\n",
    "mfa_mu = []\n",
    "for r in range(6):\n",
    "    kappa = [VE['mfa_iso'][r][0] for VE in VoidSmall_parsed_labels]\n",
    "    mu = [VE['mfa_iso'][r][1] for VE in VoidSmall_parsed_labels]\n",
    "    mfa_kappa.append(kappa)\n",
    "    mfa_mu.append(mu)\n",
    "\n",
    "mfa_kappa = np.array(mfa_kappa).transpose()\n",
    "mfa_mu = np.array(mfa_mu).transpose()"
   ]
  },
  {
   "cell_type": "code",
   "execution_count": 17,
   "metadata": {},
   "outputs": [
    {
     "data": {
      "image/png": "[encoded data removed]",
      "text/plain": [
       "<Figure size 1200x200 with 6 Axes>"
      ]
     },
     "metadata": {},
     "output_type": "display_data"
    },
    {
     "data": {
      "image/png": "[encoded data removed]",
      "text/plain": [
       "<Figure size 1200x200 with 6 Axes>"
      ]
     },
     "metadata": {},
     "output_type": "display_data"
    }
   ],
   "source": [
    "fig,ax = plt.subplots(1,6,figsize=(12, 2))\n",
    "ax = ax.flatten()\n",
    "for r in range(6):\n",
    "    ax[r].scatter(true_vfs, Fem_mu[:,r])\n",
    "    ax[r].scatter(true_vfs, C_mu[:,r])\n",
    "    ax[r].scatter(true_vfs, D_mu[:,r]) \n",
    "    ax[r].scatter(true_vfs, mfa_mu[:,r])\n",
    "    ax[r].ticklabel_format(style='sci', axis='both', scilimits=(0,0))\n",
    "plt.show()\n",
    "\n",
    "fig,ax = plt.subplots(1,6,figsize=(12, 2))\n",
    "ax = ax.flatten()\n",
    "for r in range(6):\n",
    "    ax[r].scatter(true_vfs, D_kappa[:,r])\n",
    "    ax[r].scatter(true_vfs, C_kappa[:,r])\n",
    "    ax[r].scatter(true_vfs, mfa_kappa[:,r])\n",
    "    ax[r].ticklabel_format(style='sci', axis='both', scilimits=(0,0))\n",
    "plt.show()\n"
   ]
  },
  {
   "cell_type": "code",
   "execution_count": 18,
   "metadata": {},
   "outputs": [],
   "source": [
    "for i in range(len(VoidSmall_parsed_labels)):\n",
    "    VoidSmall_data_Voronoi[i]['iso_D_kappa'] = VoidSmall_parsed_labels[i]['iso_D_kappa']\n",
    "    VoidSmall_data_Voronoi[i]['iso_C_mu'] = VoidSmall_parsed_labels[i]['iso_C_mu']\n",
    "    VoidSmall_data_Voronoi[i]['iso_D_mu'] = VoidSmall_parsed_labels[i]['iso_D_mu']\n",
    "    VoidSmall_data_Voronoi[i]['iso_Fem_mu'] = VoidSmall_parsed_labels[i]['iso_Fem_mu']\n",
    "    VoidSmall_data_Voronoi[i]['mfa_iso'] = VoidSmall_parsed_labels[i]['mfa_iso']\n",
    "    VoidSmall_data_Voronoi[i]['C_coefs_iso_C_mu'] = VoidSmall_parsed_labels[i]['C_coefs_iso_C_mu']\n",
    "    VoidSmall_data_Voronoi[i]['C_coefs_iso_D_mu'] = VoidSmall_parsed_labels[i]['C_coefs_iso_D_mu']\n",
    "    VoidSmall_data_Voronoi[i]['C_coefs_iso_Fem_mu'] = VoidSmall_parsed_labels[i]['C_coefs_iso_Fem_mu']\n",
    "\n",
    "    VoidSmall_data_Voronoi[i]['C_coefs_diff'] = VoidSmall_parsed_labels[i]['C_coefs_diff']\n",
    "    VoidSmall_data_Voronoi[i]['C_coefs_mt'] = VoidSmall_parsed_labels[i]['C_coefs_mt']\n",
    "    VoidSmall_data_Voronoi[i]['C_coefs_sc'] = VoidSmall_parsed_labels[i]['C_coefs_sc']\n",
    "    VoidSmall_data_Voronoi[i]['C_coefs_hsp'] = VoidSmall_parsed_labels[i]['C_coefs_hsp']\n",
    "    VoidSmall_data_Voronoi[i]['C_coefs_hsn'] = VoidSmall_parsed_labels[i]['C_coefs_hsn']\n",
    "    VoidSmall_data_Voronoi[i]['C_coefs_r'] = VoidSmall_parsed_labels[i]['C_coefs_r']\n",
    "    VoidSmall_data_Voronoi[i]['C_coefs_v'] = VoidSmall_parsed_labels[i]['C_coefs_v']\n",
    "    #VoidSmall_data_Voronoi[i]['C_fem'] = VoidSmall_parsed_labels[i]['C_fem']\n",
    "    #VoidSmall_data_Voronoi[i]['C_mfa'] = VoidSmall_parsed_labels[i]['C_mfa']\n",
    "    VoidSmall_data_Voronoi[i]['C_diff'] = VoidSmall_parsed_labels[i]['C_diff']\n",
    "    VoidSmall_data_Voronoi[i]['C_mt'] = VoidSmall_parsed_labels[i]['C_mt']\n",
    "    VoidSmall_data_Voronoi[i]['C_sc'] = VoidSmall_parsed_labels[i]['C_sc']\n",
    "    VoidSmall_data_Voronoi[i]['C_hsp'] = VoidSmall_parsed_labels[i]['C_hsp']\n",
    "    VoidSmall_data_Voronoi[i]['C_hsn'] = VoidSmall_parsed_labels[i]['C_hsn']\n",
    "    VoidSmall_data_Voronoi[i]['C_r'] = VoidSmall_parsed_labels[i]['C_r']\n",
    "    VoidSmall_data_Voronoi[i]['C_v'] = VoidSmall_parsed_labels[i]['C_v']\n",
    "    VoidSmall_data_Voronoi[i]['img'] = VoidSmall_parsed_labels[i]['img']"
   ]
  },
  {
   "cell_type": "code",
   "execution_count": 19,
   "metadata": {},
   "outputs": [],
   "source": [
    "filtered_data_list = []\n",
    "for i in range(len(VoidSmall_data_Voronoi)):\n",
    "    # Keep only centroids, Vf and C_coefs_diff\n",
    "    filtered_data = {\n",
    "        'centroids': VoidSmall_data_Voronoi[i]['centroids'],\n",
    "        'C_coefs_diff': VoidSmall_data_Voronoi[i]['C_coefs_diff']\n",
    "    }\n",
    "    filtered_data_list.append(filtered_data)\n",
    "\n",
    "with open('VoidSmall_data_C_coefs_diff.pkl', 'wb') as f:\n",
    "    pickle.dump(filtered_data_list, f)"
   ]
  },
  {
   "cell_type": "code",
   "execution_count": 20,
   "metadata": {},
   "outputs": [],
   "source": [
    "filtered_data_list = []\n",
    "for i in range(len(VoidSmall_data_Voronoi)):\n",
    "    # Keep only centroids, Vf and C_coefs_diff\n",
    "    filtered_data = {\n",
    "        'centroids': VoidSmall_data_Voronoi[i]['centroids'],\n",
    "        'C_coefs_iso_C_mu': VoidSmall_data_Voronoi[i]['C_coefs_iso_C_mu']\n",
    "    }\n",
    "    filtered_data_list.append(filtered_data)\n",
    "\n",
    "with open('VoidSmall_data_C_coefs_iso_C_mu.pkl', 'wb') as f:\n",
    "    pickle.dump(filtered_data_list, f)"
   ]
  },
  {
   "cell_type": "code",
   "execution_count": 21,
   "metadata": {},
   "outputs": [],
   "source": [
    "filtered_data_list = []\n",
    "for i in range(len(VoidSmall_data_Voronoi)):\n",
    "    # Keep only centroids, Vf and C_coefs_diff\n",
    "    filtered_data = {\n",
    "        'centroids': VoidSmall_data_Voronoi[i]['centroids'],\n",
    "        'C_coefs_iso_D_mu': VoidSmall_data_Voronoi[i]['C_coefs_iso_D_mu']\n",
    "    }\n",
    "    filtered_data_list.append(filtered_data)\n",
    "\n",
    "with open('VoidSmall_data_C_coefs_iso_D_mu.pkl', 'wb') as f:\n",
    "    pickle.dump(filtered_data_list, f)"
   ]
  },
  {
   "cell_type": "code",
   "execution_count": 27,
   "metadata": {},
   "outputs": [],
   "source": [
    "filtered_data_list = []\n",
    "for i in range(len(VoidSmall_data_Voronoi)):\n",
    "    # Keep only centroids, Vf and C_coefs_diff\n",
    "    filtered_data = {\n",
    "        'centroids': VoidSmall_data_Voronoi[i]['centroids'],\n",
    "        'C_coefs_iso_Fem_mu': VoidSmall_data_Voronoi[i]['C_coefs_iso_Fem_mu']\n",
    "    }\n",
    "    filtered_data_list.append(filtered_data)\n",
    "\n",
    "with open('VoidSmall_data_C_coefs_iso_Fem_mu.pkl', 'wb') as f:\n",
    "    pickle.dump(filtered_data_list, f)"
   ]
  },
  {
   "cell_type": "code",
   "execution_count": 28,
   "metadata": {},
   "outputs": [
    {
     "data": {
      "text/plain": [
       "[[-0.001312962953332164, 0.04158558310882576],\n",
       " [-0.019862735992288272, 0.03834160910148521],\n",
       " [-0.028806757889456414, 0.032036258365190085],\n",
       " [0.05945681462206431, 0.1359060205400756],\n",
       " [0.1334835893906362, 0.26544334689980276],\n",
       " [0.1497663390878251, 0.29210004000522083]]"
      ]
     },
     "execution_count": 28,
     "metadata": {},
     "output_type": "execute_result"
    }
   ],
   "source": [
    "VoidSmall_data_Voronoi[i]['C_coefs_iso_Fem_mu']"
   ]
  },
  {
   "cell_type": "code",
   "execution_count": 23,
   "metadata": {},
   "outputs": [],
   "source": [
    "with open('VoidSmall_data.pkl', 'wb') as f:\n",
    "    pickle.dump(VoidSmall_data_Voronoi, f)"
   ]
  },
  {
   "cell_type": "code",
   "execution_count": 24,
   "metadata": {},
   "outputs": [
    {
     "name": "stdout",
     "output_type": "stream",
     "text": [
      "centroids\n",
      "centroids_n\n",
      "Vf\n",
      "num_centroids\n",
      "r_inclusion\n",
      "C_coefs\n",
      "C_fem\n",
      "C_mfa\n",
      "contrast_ratios\n",
      "index\n",
      "statistics\n",
      "voronoi_data\n",
      "edge_list\n",
      "cell_centers\n",
      "graph_index\n",
      "cell_index\n",
      "x\n",
      "pos\n",
      "iso_D_kappa\n",
      "iso_C_mu\n",
      "iso_D_mu\n",
      "iso_Fem_mu\n",
      "mfa_iso\n",
      "C_coefs_iso_C_mu\n",
      "C_coefs_iso_D_mu\n",
      "C_coefs_iso_Fem_mu\n",
      "C_coefs_diff\n",
      "C_coefs_mt\n",
      "C_coefs_sc\n",
      "C_coefs_hsp\n",
      "C_coefs_hsn\n",
      "C_coefs_r\n",
      "C_coefs_v\n",
      "C_diff\n",
      "C_mt\n",
      "C_sc\n",
      "C_hsp\n",
      "C_hsn\n",
      "C_r\n",
      "C_v\n",
      "img\n"
     ]
    }
   ],
   "source": [
    "for key in VoidSmall_data_Voronoi[0].keys():\n",
    "    print(key)"
   ]
  },
  {
   "cell_type": "code",
   "execution_count": 25,
   "metadata": {},
   "outputs": [],
   "source": [
    "# with open('VoidSmall_data_iso.pkl', 'wb') as f:\n",
    "#     pickle.dump(VoidSmall_data_Voronoi, f)"
   ]
  },
  {
   "cell_type": "code",
   "execution_count": 26,
   "metadata": {},
   "outputs": [],
   "source": [
    "# import pickle\n",
    "# with open('micro2d_data_voronoi.pkl', 'wb') as f:\n",
    "#     pickle.dump(VoidSmall_all_data_Voronoi, f)"
   ]
  }
 ],
 "metadata": {
  "kernelspec": {
   "display_name": "optuna",
   "language": "python",
   "name": "python3"
  },
  "language_info": {
   "codemirror_mode": {
    "name": "ipython",
    "version": 3
   },
   "file_extension": ".py",
   "mimetype": "text/x-python",
   "name": "python",
   "nbconvert_exporter": "python",
   "pygments_lexer": "ipython3",
   "version": "3.11.0"
  }
 },
 "nbformat": 4,
 "nbformat_minor": 2
}
